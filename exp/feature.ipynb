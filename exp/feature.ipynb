{
 "cells": [
  {
   "cell_type": "code",
   "execution_count": 4,
   "metadata": {},
   "outputs": [],
   "source": [
    "import yaml\n",
    "import torch\n",
    "import pandas as pd\n",
    "\n",
    "from torch_geometric.data import Batch\n",
    "from data.dataset import PolygonDataset\n",
    "from model.nn import build_model\n",
    "from utils.plot import draw_graph"
   ]
  },
  {
   "cell_type": "code",
   "execution_count": 5,
   "metadata": {},
   "outputs": [],
   "source": [
    "with open('cfg/train_glyph.yaml', 'r') as f:\n",
    "        cfg = yaml.safe_load(f)\n",
    "        cls = [k for k, _ in cfg['cls'].items()]"
   ]
  },
  {
   "cell_type": "code",
   "execution_count": null,
   "metadata": {},
   "outputs": [],
   "source": [
    "glyph_df = pd.read_pickle(cfg['test'])\n",
    "glyph_df = glyph_df[(glyph_df.name.isin(cls))].reset_index(drop=True)\n",
    "glyph_set = PolygonDataset(glyph_df, cfg['cls'])"
   ]
  },
  {
   "cell_type": "code",
   "execution_count": 7,
   "metadata": {},
   "outputs": [],
   "source": [
    "activation = {}\n",
    "def get_activation(name):\n",
    "    def hook(model, input, output):\n",
    "        activation[name] = output.detach()\n",
    "    return hook"
   ]
  },
  {
   "cell_type": "code",
   "execution_count": 8,
   "metadata": {},
   "outputs": [],
   "source": [
    "idx = 0\n",
    "data = Batch.from_data_list([glyph_set[idx]])"
   ]
  },
  {
   "cell_type": "code",
   "execution_count": 9,
   "metadata": {},
   "outputs": [],
   "source": [
    "cfg['nn'] = 'deepset'\n",
    "cfg['path'] = f\"save/frac0.8/{cfg['nn']}/ckpt/epoch100\"\n",
    "\n",
    "deepset = build_model(cfg=cfg)\n",
    "deepset.load_state_dict(torch.load(cfg['path'])['params'])\n",
    "deepset.eval()\n",
    "deepset.conv2.register_forward_hook(get_activation('conv2'))\n",
    "\n",
    "deepset_pred = deepset(data).argmax(1).item()\n",
    "deepset_feat = activation['conv2'].mean(1).softmax(dim=0).cpu().detach().numpy()"
   ]
  },
  {
   "cell_type": "code",
   "execution_count": 10,
   "metadata": {},
   "outputs": [],
   "source": [
    "cfg['nn'] = 'transformer'\n",
    "cfg['path'] = f\"save/frac0.8/{cfg['nn']}/ckpt/epoch100\"\n",
    "\n",
    "transformer = build_model(cfg=cfg)\n",
    "transformer.load_state_dict(torch.load(cfg['path'])['params'])\n",
    "transformer.eval()\n",
    "transformer.enc.register_forward_hook(get_activation('enc'))\n",
    "\n",
    "tm_pred = transformer(data).argmax(1).item()\n",
    "tm_feat = activation['enc'].squeeze(0)[:data.pos.size(0)].mean(1).softmax(dim=0).cpu().detach().numpy()"
   ]
  },
  {
   "cell_type": "code",
   "execution_count": 11,
   "metadata": {},
   "outputs": [],
   "source": [
    "cfg['nn'] = 'gcn'\n",
    "cfg['path'] = f\"save/frac0.8/{cfg['nn']}/ckpt/epoch100\"\n",
    "\n",
    "gcn = build_model(cfg=cfg)\n",
    "gcn.load_state_dict(torch.load(cfg['path'])['params'])\n",
    "gcn.eval()\n",
    "gcn.conv2.register_forward_hook(get_activation('conv2'))\n",
    "\n",
    "gcn_pred = gcn(data).argmax(1).item()\n",
    "gcn_feat = activation['conv2'].mean(1).softmax(dim=0).cpu().detach().numpy()"
   ]
  },
  {
   "cell_type": "code",
   "execution_count": 12,
   "metadata": {},
   "outputs": [],
   "source": [
    "\n",
    "cfg['nn'] = 'dsc_nmp'\n",
    "cfg['path'] = f\"save/frac0.8/{cfg['nn']}/ckpt/epoch100\"\n",
    "\n",
    "dsc_nmp = build_model(cfg=cfg)\n",
    "dsc_nmp.load_state_dict(torch.load(cfg['path'])['params'])\n",
    "dsc_nmp.eval()\n",
    "dsc_nmp.conv2.register_forward_hook(get_activation('conv2'))\n",
    "\n",
    "dsc_nmp_pred = dsc_nmp(data).argmax(1).item()\n",
    "dsc_nmp_feat = activation['conv2'].mean(1).softmax(dim=0).cpu().detach().numpy()"
   ]
  },
  {
   "cell_type": "code",
   "execution_count": 13,
   "metadata": {},
   "outputs": [],
   "source": [
    "cfg['nn'] = 'polymp'\n",
    "cfg['path'] = f\"save/frac0.8/{cfg['nn']}/ckpt/epoch100\"\n",
    "\n",
    "polymp = build_model(cfg=cfg)\n",
    "polymp.load_state_dict(torch.load(cfg['path'])['params'])\n",
    "polymp.eval()\n",
    "polymp.mp2.register_forward_hook(get_activation('mp2'))\n",
    "\n",
    "polymp_pred = polymp(data).argmax(1).item()\n",
    "polymp_feat = activation['mp2'].mean(1).softmax(dim=0).cpu().detach().numpy()"
   ]
  },
  {
   "cell_type": "code",
   "execution_count": 14,
   "metadata": {},
   "outputs": [],
   "source": [
    "cfg['nn'] = 'dsc_polymp'\n",
    "cfg['path'] = f\"save/frac0.8/{cfg['nn']}/ckpt/epoch100\"\n",
    "\n",
    "dsc_polymp = build_model(cfg=cfg)\n",
    "dsc_polymp.load_state_dict(torch.load(cfg['path'])['params'])\n",
    "dsc_polymp.eval()\n",
    "dsc_polymp.mp2.register_forward_hook(get_activation('mp2'))\n",
    "\n",
    "dsc_polymp_pred = dsc_polymp(data).argmax(1).item()\n",
    "dsc_polymp_feat = activation['mp2'].mean(1).softmax(dim=0).cpu().detach().numpy()"
   ]
  },
  {
   "cell_type": "code",
   "execution_count": null,
   "metadata": {},
   "outputs": [],
   "source": [
    "import matplotlib.pyplot as plt\n",
    "plt.rcParams['font.size'] = 20\n",
    "plt.rcParams['font.family'] = 'sans-serif'\n",
    "plt.rcParams['savefig.bbox'] = 'tight'\n",
    "plt.rcParams['figure.constrained_layout.use'] = True\n",
    "plt.rcParams['savefig.dpi'] = 250\n",
    "plt.rcParams['figure.dpi'] = 250\n",
    "\n",
    "fig, axes = plt.subplots(nrows=1, ncols=6,  figsize=(18, 3))\n",
    "\n",
    "axes[0].set_title(f'DeepSet \\n Pred.: {cls[deepset_pred]}')\n",
    "draw_graph(data.pos.numpy(), data.edge_index.t().numpy(), ax=axes[0], mask=deepset_feat)\n",
    "\n",
    "axes[1].set_title(f'SetTransformer \\n Pred.: {cls[tm_pred]}')\n",
    "draw_graph(data.pos.numpy(), data.edge_index.t().numpy(), ax=axes[1], mask=tm_feat)\n",
    "\n",
    "axes[2].set_title(f'GCAE \\n Pred.: {cls[gcn_pred]}')\n",
    "draw_graph(data.pos.numpy(), data.edge_index.t().numpy(), ax=axes[2], mask=gcn_feat)\n",
    "\n",
    "axes[3].set_title(f'DSC-NMP \\n Pred.: {cls[dsc_nmp_pred]}')\n",
    "draw_graph(data.pos.numpy(), data.edge_index.t().numpy(), ax=axes[3], mask=dsc_nmp_feat)\n",
    "\n",
    "axes[4].set_title(f'PolyMP \\n Pred.: {cls[polymp_pred]}')\n",
    "draw_graph(data.pos.numpy(), data.edge_index.t().numpy(), ax=axes[4], mask=polymp_feat)\n",
    "\n",
    "axes[5].set_title(f'PolyMP-DSC \\n Pred.: {cls[dsc_polymp_pred]}')\n",
    "draw_graph(data.pos.numpy(), data.edge_index.t().numpy(), ax=axes[5], mask=dsc_polymp_feat)"
   ]
  },
  {
   "cell_type": "markdown",
   "metadata": {},
   "source": [
    "## Limitations on Glyph"
   ]
  },
  {
   "cell_type": "code",
   "execution_count": null,
   "metadata": {},
   "outputs": [],
   "source": [
    "cfg['nn'] = 'polymp'\n",
    "cfg['path'] = f\"save/frac0.8/{cfg['nn']}/ckpt/epoch100\"\n",
    "\n",
    "polymp = build_model(cfg=cfg)\n",
    "polymp.load_state_dict(torch.load(cfg['path'])['params'])\n",
    "polymp.eval()\n",
    "polymp.mp2.register_forward_hook(get_activation('mp2'))"
   ]
  },
  {
   "cell_type": "code",
   "execution_count": 21,
   "metadata": {},
   "outputs": [],
   "source": [
    "# idx = [14, 77, 237, 57]\n",
    "idx = [127, 170,216, 100]\n",
    "data_batch = [Batch.from_data_list([glyph_set[i]]) for i in idx]"
   ]
  },
  {
   "cell_type": "code",
   "execution_count": null,
   "metadata": {},
   "outputs": [],
   "source": [
    "fig, axes = plt.subplots(nrows=1, ncols=len(data_batch), figsize=(3 * len(data_batch), 3))\n",
    "\n",
    "for data, axis in zip(data_batch, axes):\n",
    "    polymp_pred = polymp(data).argmax(1).item()\n",
    "    polymp_feat = activation['mp2'].mean(1).softmax(dim=0).cpu().detach().numpy()\n",
    "\n",
    "    axis.set_title(f'Label: {cls[data.y]} \\n Pred.: {cls[polymp_pred]}')\n",
    "    draw_graph(data.pos.numpy(), data.edge_index.t().numpy(), ax=axis, mask=polymp_feat)"
   ]
  },
  {
   "cell_type": "markdown",
   "metadata": {},
   "source": [
    "## Limitations on OSM"
   ]
  },
  {
   "cell_type": "code",
   "execution_count": null,
   "metadata": {},
   "outputs": [],
   "source": [
    "osm_df = pd.read_pickle(cfg['osm_test'])\n",
    "osm_df = osm_df[(osm_df.name.isin(cls))].reset_index(drop=True)\n",
    "osm_set = PolygonDataset(osm_df, cfg['cls'])"
   ]
  },
  {
   "cell_type": "code",
   "execution_count": 25,
   "metadata": {},
   "outputs": [],
   "source": [
    "cfg['nn'] = 'polymp'\n",
    "cfg['path'] = f\"save/finetune/normalised/{cfg['nn']}/ckpt/epoch100\"\n",
    "\n",
    "polymp = build_model(cfg=cfg)\n",
    "polymp.load_state_dict(torch.load(cfg['path'])['params'])\n",
    "polymp.eval()\n",
    "\n",
    "polymp.mp2.register_forward_hook(get_activation('mp2'))\n",
    "polymp_pred = polymp(data).argmax(1).item()\n",
    "polymp_feat = activation['mp2'].mean(1).softmax(dim=0).cpu().detach().numpy()"
   ]
  },
  {
   "cell_type": "code",
   "execution_count": 29,
   "metadata": {},
   "outputs": [],
   "source": [
    "# idx = [173, 83, 214, 213]\n",
    "idx = [66, 86, 124, 215]\n",
    "data_batch = [Batch.from_data_list([osm_set[i]]) for i in idx]"
   ]
  },
  {
   "cell_type": "code",
   "execution_count": null,
   "metadata": {},
   "outputs": [],
   "source": [
    "fig, axes = plt.subplots(nrows=1, ncols=len(data_batch), figsize=(3 * len(data_batch), 3))\n",
    "\n",
    "for data, axis in zip(data_batch, axes):\n",
    "    polymp_pred = polymp(data).argmax(1).item()\n",
    "    polymp_feat = activation['mp2'].mean(1).softmax(dim=0).cpu().detach().numpy()\n",
    "\n",
    "    axis.set_title(f'Label: {cls[data.y]} \\n Pred.: {cls[polymp_pred]}')\n",
    "    draw_graph(data.pos.numpy(), data.edge_index.t().numpy(), ax=axis, mask=polymp_feat)"
   ]
  }
 ],
 "metadata": {
  "kernelspec": {
   "display_name": "tda",
   "language": "python",
   "name": "python3"
  },
  "language_info": {
   "codemirror_mode": {
    "name": "ipython",
    "version": 3
   },
   "file_extension": ".py",
   "mimetype": "text/x-python",
   "name": "python",
   "nbconvert_exporter": "python",
   "pygments_lexer": "ipython3",
   "version": "3.9.18"
  },
  "orig_nbformat": 4
 },
 "nbformat": 4,
 "nbformat_minor": 2
}
