{
 "cells": [
  {
   "cell_type": "code",
   "execution_count": 1,
   "metadata": {},
   "outputs": [],
   "source": [
    "import yaml\n",
    "import pandas as pd\n",
    "\n",
    "from torch_geometric.loader import DataLoader\n",
    "from data.dataset import PolygonDataset\n",
    "from train.trainer import Trainer\n",
    "from model.nn import build_model\n",
    "from utils.plot import draw_graph"
   ]
  },
  {
   "cell_type": "code",
   "execution_count": 2,
   "metadata": {},
   "outputs": [],
   "source": [
    "with open('cfg/train_glyph.yaml', 'r') as f:\n",
    "        cfg = yaml.safe_load(f)\n",
    "        cls = [k for k, _ in cfg['cls'].items()]  "
   ]
  },
  {
   "attachments": {},
   "cell_type": "markdown",
   "metadata": {},
   "source": [
    "### Glyph Dataset"
   ]
  },
  {
   "cell_type": "code",
   "execution_count": 3,
   "metadata": {},
   "outputs": [
    {
     "name": "stderr",
     "output_type": "stream",
     "text": [
      "  0%|          | 0/12509 [00:00<?, ?it/s]/data/anaconda3/envs/gdl/lib/python3.9/site-packages/torch/functional.py:478: UserWarning: torch.meshgrid: in an upcoming release, it will be required to pass the indexing argument. (Triggered internally at  /opt/conda/conda-bld/pytorch_1659484806139/work/aten/src/ATen/native/TensorShape.cpp:2894.)\n",
      "  return _VF.meshgrid(tensors, **kwargs)  # type: ignore[attr-defined]\n",
      "100%|██████████| 12509/12509 [00:29<00:00, 427.46it/s]\n"
     ]
    },
    {
     "name": "stdout",
     "output_type": "stream",
     "text": [
      "********************************************************************************\n",
      "nuft_spec_mlp: 98.42\n",
      "cnn: 97.64\n",
      "deepset: 94.62\n",
      "gcn: 95.16\n",
      "transformer: 96.25\n",
      "dsc_nmp: 96.81\n",
      "polymp: 99.68\n",
      "dsc_polymp: 99.58\n"
     ]
    },
    {
     "name": "stderr",
     "output_type": "stream",
     "text": [
      "100%|██████████| 12385/12385 [00:27<00:00, 444.80it/s]"
     ]
    },
    {
     "name": "stdout",
     "output_type": "stream",
     "text": [
      "********************************************************************************\n"
     ]
    },
    {
     "name": "stderr",
     "output_type": "stream",
     "text": [
      "\n"
     ]
    },
    {
     "name": "stdout",
     "output_type": "stream",
     "text": [
      "nuft_spec_mlp: 34.90\n",
      "cnn: 40.78\n",
      "deepset: 23.30\n",
      "gcn: 31.34\n",
      "transformer: 24.87\n",
      "dsc_nmp: 35.71\n",
      "polymp: 39.91\n",
      "dsc_polymp: 41.74\n"
     ]
    },
    {
     "name": "stderr",
     "output_type": "stream",
     "text": [
      "100%|██████████| 12439/12439 [00:28<00:00, 433.04it/s]"
     ]
    },
    {
     "name": "stdout",
     "output_type": "stream",
     "text": [
      "********************************************************************************\n"
     ]
    },
    {
     "name": "stderr",
     "output_type": "stream",
     "text": [
      "\n"
     ]
    },
    {
     "name": "stdout",
     "output_type": "stream",
     "text": [
      "nuft_spec_mlp: 72.07\n",
      "cnn: 79.19\n",
      "deepset: 65.56\n",
      "gcn: 64.23\n",
      "transformer: 68.15\n",
      "dsc_nmp: 72.83\n",
      "polymp: 82.35\n",
      "dsc_polymp: 86.45\n"
     ]
    },
    {
     "name": "stderr",
     "output_type": "stream",
     "text": [
      "100%|██████████| 12380/12380 [00:29<00:00, 425.01it/s]\n"
     ]
    },
    {
     "name": "stdout",
     "output_type": "stream",
     "text": [
      "********************************************************************************\n",
      "nuft_spec_mlp: 39.68\n",
      "cnn: 58.09\n",
      "deepset: 25.33\n",
      "gcn: 37.99\n",
      "transformer: 26.95\n",
      "dsc_nmp: 43.21\n",
      "polymp: 53.22\n",
      "dsc_polymp: 56.16\n"
     ]
    },
    {
     "name": "stderr",
     "output_type": "stream",
     "text": [
      "100%|██████████| 49713/49713 [01:37<00:00, 509.59it/s]"
     ]
    },
    {
     "name": "stdout",
     "output_type": "stream",
     "text": [
      "********************************************************************************\n"
     ]
    },
    {
     "name": "stderr",
     "output_type": "stream",
     "text": [
      "\n"
     ]
    },
    {
     "name": "stdout",
     "output_type": "stream",
     "text": [
      "nuft_spec_mlp: 61.34\n",
      "cnn: 69.01\n",
      "deepset: 52.32\n",
      "gcn: 57.53\n",
      "transformer: 54.18\n",
      "dsc_nmp: 62.24\n",
      "polymp: 69.03\n",
      "dsc_polymp: 71.21\n"
     ]
    },
    {
     "name": "stderr",
     "output_type": "stream",
     "text": [
      "100%|██████████| 12509/12509 [00:27<00:00, 447.87it/s]\n"
     ]
    },
    {
     "name": "stdout",
     "output_type": "stream",
     "text": [
      "********************************************************************************\n",
      "nuft_spec_mlp: 98.00\n",
      "cnn: 95.12\n",
      "deepset: 93.88\n",
      "gcn: 93.31\n",
      "transformer: 93.87\n",
      "dsc_nmp: 93.68\n",
      "polymp: 99.10\n",
      "dsc_polymp: 99.19\n"
     ]
    },
    {
     "name": "stderr",
     "output_type": "stream",
     "text": [
      "100%|██████████| 12385/12385 [00:28<00:00, 428.07it/s]\n"
     ]
    },
    {
     "name": "stdout",
     "output_type": "stream",
     "text": [
      "********************************************************************************\n",
      "nuft_spec_mlp: 65.27\n",
      "cnn: 68.35\n",
      "deepset: 66.98\n",
      "gcn: 47.25\n",
      "transformer: 71.46\n",
      "dsc_nmp: 52.38\n",
      "polymp: 84.89\n",
      "dsc_polymp: 86.20\n"
     ]
    },
    {
     "name": "stderr",
     "output_type": "stream",
     "text": [
      "100%|██████████| 12439/12439 [00:29<00:00, 422.58it/s]\n"
     ]
    },
    {
     "name": "stdout",
     "output_type": "stream",
     "text": [
      "********************************************************************************\n",
      "nuft_spec_mlp: 84.03\n",
      "cnn: 83.00\n",
      "deepset: 77.22\n",
      "gcn: 71.23\n",
      "transformer: 81.73\n",
      "dsc_nmp: 78.86\n",
      "polymp: 93.26\n",
      "dsc_polymp: 94.60\n"
     ]
    },
    {
     "name": "stderr",
     "output_type": "stream",
     "text": [
      "100%|██████████| 12380/12380 [00:26<00:00, 468.67it/s]"
     ]
    },
    {
     "name": "stdout",
     "output_type": "stream",
     "text": [
      "********************************************************************************\n"
     ]
    },
    {
     "name": "stderr",
     "output_type": "stream",
     "text": [
      "\n"
     ]
    },
    {
     "name": "stdout",
     "output_type": "stream",
     "text": [
      "nuft_spec_mlp: 70.74\n",
      "cnn: 77.95\n",
      "deepset: 64.23\n",
      "gcn: 56.28\n",
      "transformer: 72.34\n",
      "dsc_nmp: 61.72\n",
      "polymp: 88.17\n",
      "dsc_polymp: 90.65\n"
     ]
    },
    {
     "name": "stderr",
     "output_type": "stream",
     "text": [
      "100%|██████████| 49713/49713 [01:30<00:00, 551.90it/s]\n"
     ]
    },
    {
     "name": "stdout",
     "output_type": "stream",
     "text": [
      "********************************************************************************\n",
      "nuft_spec_mlp: 79.61\n",
      "cnn: 81.14\n",
      "deepset: 75.91\n",
      "gcn: 67.36\n",
      "transformer: 79.89\n",
      "dsc_nmp: 71.73\n",
      "polymp: 91.30\n",
      "dsc_polymp: 92.64\n"
     ]
    },
    {
     "name": "stderr",
     "output_type": "stream",
     "text": [
      "100%|██████████| 12509/12509 [00:38<00:00, 328.61it/s]\n"
     ]
    },
    {
     "name": "stdout",
     "output_type": "stream",
     "text": [
      "********************************************************************************\n",
      "nuft_spec_mlp: 97.44\n",
      "cnn: 94.75\n",
      "deepset: 92.57\n",
      "gcn: 91.70\n",
      "transformer: 91.97\n",
      "dsc_nmp: 86.71\n",
      "polymp: 98.85\n",
      "dsc_polymp: 99.05\n"
     ]
    },
    {
     "name": "stderr",
     "output_type": "stream",
     "text": [
      "100%|██████████| 12385/12385 [00:38<00:00, 321.22it/s]\n"
     ]
    },
    {
     "name": "stdout",
     "output_type": "stream",
     "text": [
      "********************************************************************************\n",
      "nuft_spec_mlp: 78.84\n",
      "cnn: 72.97\n",
      "deepset: 74.19\n",
      "gcn: 59.10\n",
      "transformer: 72.43\n",
      "dsc_nmp: 54.01\n",
      "polymp: 88.53\n",
      "dsc_polymp: 90.18\n"
     ]
    },
    {
     "name": "stderr",
     "output_type": "stream",
     "text": [
      "100%|██████████| 12439/12439 [00:26<00:00, 462.56it/s]\n"
     ]
    },
    {
     "name": "stdout",
     "output_type": "stream",
     "text": [
      "********************************************************************************\n",
      "nuft_spec_mlp: 86.00\n",
      "cnn: 84.56\n",
      "deepset: 79.04\n",
      "gcn: 74.79\n",
      "transformer: 82.80\n",
      "dsc_nmp: 71.96\n",
      "polymp: 94.35\n",
      "dsc_polymp: 95.33\n"
     ]
    },
    {
     "name": "stderr",
     "output_type": "stream",
     "text": [
      "100%|██████████| 12380/12380 [00:26<00:00, 473.58it/s]\n"
     ]
    },
    {
     "name": "stdout",
     "output_type": "stream",
     "text": [
      "********************************************************************************\n",
      "nuft_spec_mlp: 78.71\n",
      "cnn: 80.33\n",
      "deepset: 70.83\n",
      "gcn: 65.01\n",
      "transformer: 73.96\n",
      "dsc_nmp: 57.97\n",
      "polymp: 90.74\n",
      "dsc_polymp: 92.57\n"
     ]
    },
    {
     "name": "stderr",
     "output_type": "stream",
     "text": [
      "100%|██████████| 49713/49713 [01:23<00:00, 598.87it/s]"
     ]
    },
    {
     "name": "stdout",
     "output_type": "stream",
     "text": [
      "********************************************************************************\n"
     ]
    },
    {
     "name": "stderr",
     "output_type": "stream",
     "text": [
      "\n"
     ]
    },
    {
     "name": "stdout",
     "output_type": "stream",
     "text": [
      "nuft_spec_mlp: 85.24\n",
      "cnn: 83.18\n",
      "deepset: 79.79\n",
      "gcn: 72.81\n",
      "transformer: 80.32\n",
      "dsc_nmp: 67.71\n",
      "polymp: 93.11\n",
      "dsc_polymp: 94.18\n"
     ]
    },
    {
     "name": "stderr",
     "output_type": "stream",
     "text": [
      "100%|██████████| 12509/12509 [00:29<00:00, 425.90it/s]\n"
     ]
    },
    {
     "name": "stdout",
     "output_type": "stream",
     "text": [
      "********************************************************************************\n",
      "nuft_spec_mlp: 96.80\n",
      "cnn: 94.50\n",
      "deepset: 91.72\n",
      "gcn: 90.46\n",
      "transformer: 90.93\n",
      "dsc_nmp: 90.97\n",
      "polymp: 98.59\n",
      "dsc_polymp: 98.79\n"
     ]
    },
    {
     "name": "stderr",
     "output_type": "stream",
     "text": [
      "100%|██████████| 12385/12385 [00:29<00:00, 421.72it/s]\n"
     ]
    },
    {
     "name": "stdout",
     "output_type": "stream",
     "text": [
      "********************************************************************************\n",
      "nuft_spec_mlp: 83.13\n",
      "cnn: 77.35\n",
      "deepset: 76.70\n",
      "gcn: 64.42\n",
      "transformer: 77.04\n",
      "dsc_nmp: 64.17\n",
      "polymp: 90.08\n",
      "dsc_polymp: 91.80\n"
     ]
    },
    {
     "name": "stderr",
     "output_type": "stream",
     "text": [
      "100%|██████████| 12439/12439 [00:27<00:00, 451.14it/s]\n"
     ]
    },
    {
     "name": "stdout",
     "output_type": "stream",
     "text": [
      "********************************************************************************\n",
      "nuft_spec_mlp: 88.40\n",
      "cnn: 85.81\n",
      "deepset: 80.63\n",
      "gcn: 76.12\n",
      "transformer: 82.45\n",
      "dsc_nmp: 80.00\n",
      "polymp: 94.11\n",
      "dsc_polymp: 95.76\n"
     ]
    },
    {
     "name": "stderr",
     "output_type": "stream",
     "text": [
      "100%|██████████| 12380/12380 [00:26<00:00, 471.20it/s]\n"
     ]
    },
    {
     "name": "stdout",
     "output_type": "stream",
     "text": [
      "********************************************************************************\n",
      "nuft_spec_mlp: 81.76\n",
      "cnn: 82.38\n",
      "deepset: 73.52\n",
      "gcn: 68.23\n",
      "transformer: 77.36\n",
      "dsc_nmp: 67.73\n",
      "polymp: 91.65\n",
      "dsc_polymp: 93.20\n"
     ]
    },
    {
     "name": "stderr",
     "output_type": "stream",
     "text": [
      "100%|██████████| 49713/49713 [01:24<00:00, 588.80it/s]\n"
     ]
    },
    {
     "name": "stdout",
     "output_type": "stream",
     "text": [
      "********************************************************************************\n",
      "nuft_spec_mlp: 87.55\n",
      "cnn: 85.04\n",
      "deepset: 81.21\n",
      "gcn: 75.05\n",
      "transformer: 81.97\n",
      "dsc_nmp: 75.76\n",
      "polymp: 93.69\n",
      "dsc_polymp: 94.91\n"
     ]
    },
    {
     "name": "stderr",
     "output_type": "stream",
     "text": [
      "100%|██████████| 12509/12509 [00:37<00:00, 329.50it/s]\n"
     ]
    },
    {
     "name": "stdout",
     "output_type": "stream",
     "text": [
      "********************************************************************************\n",
      "nuft_spec_mlp: 96.15\n",
      "cnn: 93.51\n",
      "deepset: 90.66\n",
      "gcn: 89.58\n",
      "transformer: 91.17\n",
      "dsc_nmp: 94.31\n",
      "polymp: 98.48\n",
      "dsc_polymp: 98.93\n"
     ]
    },
    {
     "name": "stderr",
     "output_type": "stream",
     "text": [
      "100%|██████████| 12385/12385 [00:34<00:00, 354.73it/s]\n"
     ]
    },
    {
     "name": "stdout",
     "output_type": "stream",
     "text": [
      "********************************************************************************\n",
      "nuft_spec_mlp: 84.40\n",
      "cnn: 79.90\n",
      "deepset: 78.12\n",
      "gcn: 68.30\n",
      "transformer: 80.02\n",
      "dsc_nmp: 74.31\n",
      "polymp: 91.64\n",
      "dsc_polymp: 93.19\n"
     ]
    },
    {
     "name": "stderr",
     "output_type": "stream",
     "text": [
      "100%|██████████| 12439/12439 [00:33<00:00, 372.26it/s]\n"
     ]
    },
    {
     "name": "stdout",
     "output_type": "stream",
     "text": [
      "********************************************************************************\n",
      "nuft_spec_mlp: 89.24\n",
      "cnn: 85.79\n",
      "deepset: 82.60\n",
      "gcn: 77.76\n",
      "transformer: 83.97\n",
      "dsc_nmp: 86.75\n",
      "polymp: 94.69\n",
      "dsc_polymp: 95.95\n"
     ]
    },
    {
     "name": "stderr",
     "output_type": "stream",
     "text": [
      "100%|██████████| 12380/12380 [00:26<00:00, 474.07it/s]"
     ]
    },
    {
     "name": "stdout",
     "output_type": "stream",
     "text": [
      "********************************************************************************\n"
     ]
    },
    {
     "name": "stderr",
     "output_type": "stream",
     "text": [
      "\n"
     ]
    },
    {
     "name": "stdout",
     "output_type": "stream",
     "text": [
      "nuft_spec_mlp: 83.46\n",
      "cnn: 82.89\n",
      "deepset: 76.79\n",
      "gcn: 71.27\n",
      "transformer: 79.20\n",
      "dsc_nmp: 78.36\n",
      "polymp: 92.36\n",
      "dsc_polymp: 94.26\n"
     ]
    },
    {
     "name": "stderr",
     "output_type": "stream",
     "text": [
      "100%|██████████| 49713/49713 [01:24<00:00, 588.40it/s]\n"
     ]
    },
    {
     "name": "stdout",
     "output_type": "stream",
     "text": [
      "********************************************************************************\n",
      "nuft_spec_mlp: 88.32\n",
      "cnn: 85.54\n",
      "deepset: 82.43\n",
      "gcn: 76.95\n",
      "transformer: 83.61\n",
      "dsc_nmp: 83.46\n",
      "polymp: 94.31\n",
      "dsc_polymp: 95.61\n"
     ]
    }
   ],
   "source": [
    "for frac in [0.0, 0.2, 0.4, 0.6, 0.8]:\n",
    "    cfg['frac'] = frac\n",
    "\n",
    "    for tr in ['o', 'r', 'sc', 'sk', None]:\n",
    "        test_df = pd.read_pickle(cfg['test'])\n",
    "        if tr == None:\n",
    "            test_df = test_df[(test_df.name.isin(cls))].reset_index(drop=True)\n",
    "        else:                            \n",
    "            test_df = test_df[(test_df.name.isin(cls)) & (test_df.trans==tr)].reset_index(drop=True)\n",
    "            \n",
    "        test_set = PolygonDataset(test_df, cfg['cls'])\n",
    "        test_loader = DataLoader(test_set, \n",
    "                                 batch_size=cfg['batch'], \n",
    "                                 num_workers=cfg['worker'])\n",
    "        print('*' * 80)\n",
    "        \n",
    "        cfg['nn'] = 'nuft_spec_mlp'\n",
    "        cfg['path'] = f\"save/frac{cfg['frac']}/{cfg['nn']}\"\n",
    "        model = build_model(cfg=cfg)\n",
    "        trainer = Trainer(cfg=cfg) \n",
    "        nuft_spec_cm, nuft_spec_mlp = trainer.predict(model, dataloader=test_loader, ckpt='epoch100')\n",
    "        print(f'nuft_spec_mlp: {nuft_spec_cm.acc()}')\n",
    "        \n",
    "        cfg['nn'] = 'cnn'\n",
    "        cfg['path'] = f\"save/frac{cfg['frac']}/{cfg['nn']}\"\n",
    "        model = build_model(cfg=cfg)\n",
    "        trainer = Trainer(cfg=cfg) \n",
    "        cnn_cm, cnn = trainer.predict(model, dataloader=test_loader, ckpt='epoch100')\n",
    "        print(f'cnn: {cnn_cm.acc()}')\n",
    "        \n",
    "        cfg['nn'] = 'deepset'\n",
    "        cfg['path'] = f\"save/frac{cfg['frac']}/{cfg['nn']}\"\n",
    "        model = build_model(cfg=cfg)\n",
    "        trainer = Trainer(cfg=cfg) \n",
    "        deepset_cm, deepset = trainer.predict(model, dataloader=test_loader, ckpt='epoch100')\n",
    "        print(f'deepset: {deepset_cm.acc()}')\n",
    "\n",
    "        cfg['nn'] = 'gcn'\n",
    "        cfg['path'] = f\"save/frac{cfg['frac']}/{cfg['nn']}\"\n",
    "        model = build_model(cfg=cfg)\n",
    "        trainer = Trainer(cfg=cfg) \n",
    "        gcn_cm, gcn = trainer.predict(model, dataloader=test_loader, ckpt='epoch100')\n",
    "        print(f'gcn: {gcn_cm.acc()}')\n",
    "        \n",
    "        cfg['nn'] = 'transformer'\n",
    "        cfg['path'] = f\"save/frac{cfg['frac']}/{cfg['nn']}\"\n",
    "        model = build_model(cfg=cfg)\n",
    "        trainer = Trainer(cfg=cfg) \n",
    "        transformer_cm, transformer = trainer.predict(model, dataloader=test_loader, ckpt='epoch100')\n",
    "        print(f'transformer: {transformer_cm.acc()}')\n",
    "        \n",
    "        cfg['nn'] = 'dsc_nmp'\n",
    "        cfg['path'] = f\"save/frac{cfg['frac']}/{cfg['nn']}\"\n",
    "        model = build_model(cfg=cfg)\n",
    "        trainer = Trainer(cfg=cfg) \n",
    "        dsc_nmp_cm, dsc_nmp = trainer.predict(model, dataloader=test_loader, ckpt='epoch100')\n",
    "        print(f'dsc_nmp: {dsc_nmp_cm.acc()}')\n",
    "        \n",
    "        cfg['nn'] = 'polymp'\n",
    "        cfg['path'] = f\"save/frac{cfg['frac']}/{cfg['nn']}\"\n",
    "        model = build_model(cfg=cfg)\n",
    "        trainer = Trainer(cfg=cfg) \n",
    "        polymp_cm, polymp = trainer.predict(model, dataloader=test_loader, ckpt='epoch100')\n",
    "        print(f'polymp: {polymp_cm.acc()}')\n",
    "        \n",
    "        cfg['nn'] = 'dsc_polymp'\n",
    "        cfg['path'] = f\"save/frac{cfg['frac']}/{cfg['nn']}\"\n",
    "        model = build_model(cfg=cfg)\n",
    "        trainer = Trainer(cfg=cfg) \n",
    "        dsc_polymp_cm, dsc_polymp = trainer.predict(model, dataloader=test_loader, ckpt='epoch100')\n",
    "        print(f'dsc_polymp: {dsc_polymp_cm.acc()}')"
   ]
  },
  {
   "cell_type": "code",
   "execution_count": 4,
   "metadata": {},
   "outputs": [],
   "source": [
    "import numpy as np\n",
    "import shapely.wkt\n",
    "\n",
    "from typing import List\n",
    "from shapely.validation import make_valid\n",
    "from shapely.geometry import Polygon, MultiPolygon\n",
    "from shapely.geometry.base import BaseGeometry\n",
    "\n",
    "\n",
    "def _contour(coords: np.ndarray, \n",
    "             contours: List[int]):\n",
    "    node_idx = np.arange(0, coords.shape[1], dtype=np.int64)\n",
    "    src_list, tgt_list = [], []\n",
    "    \n",
    "    start = 0\n",
    "    for idx, _ in enumerate(contours):\n",
    "        end = sum(contours[:idx+1])\n",
    "        \n",
    "        ids = node_idx[start:end]\n",
    "        src = np.concatenate([ids, ids], axis=0)  \n",
    "        tgt = np.concatenate([np.roll(ids, shift=-1, axis=0), \n",
    "                              np.roll(ids, shift=1, axis=0)], axis=0)\n",
    "        src_list.append(src)\n",
    "        tgt_list.append(tgt)\n",
    "        start = end\n",
    "        \n",
    "    src = np.concatenate(src_list)\n",
    "    tgt = np.concatenate(tgt_list)\n",
    "    edge_index = np.concatenate([src.reshape(1, -1), tgt.reshape(1, -1)], axis=0)\n",
    "    return edge_index \n",
    "\n",
    "\n",
    "def to_edge_index(geom: BaseGeometry):\n",
    "    contours = []   \n",
    "    if isinstance(geom, Polygon):\n",
    "        exter = np.asarray(geom.exterior.coords.xy)[:,0:-1] # drop_last\n",
    "        contours.append(exter.shape[-1])\n",
    "        \n",
    "        inters = []\n",
    "        for i in list(geom.interiors):\n",
    "            inters.append(np.asarray(i.coords.xy)[:,0:-1]) # drop_last\n",
    "            contours.append(inters[-1].shape[-1])\n",
    "            \n",
    "        coords = np.concatenate((exter, *inters), axis=-1) # feat_dim, num_point\n",
    "    elif isinstance(geom, MultiPolygon):\n",
    "        coords = []    \n",
    "        for poly in geom.geoms:\n",
    "            exter = np.asarray(poly.exterior.coords.xy)[:,0:-1] # drop_last\n",
    "            contours.append(exter.shape[-1])\n",
    "            \n",
    "            inters = []\n",
    "            for i in list(poly.interiors):\n",
    "                inters.append(np.asarray(i.coords.xy)[:,0:-1]) # drop_last\n",
    "                contours.append(inters[-1].shape[-1])\n",
    "                        \n",
    "            coords.append(np.concatenate((exter, *inters), axis=-1)) # feat_dim, num_point\n",
    "        coords = np.concatenate(coords, axis=-1) \n",
    "    else:\n",
    "        raise Exception('Wrong geom type.')\n",
    "    \n",
    "    contour = _contour(coords, contours)\n",
    "    return coords, contour"
   ]
  },
  {
   "attachments": {},
   "cell_type": "markdown",
   "metadata": {},
   "source": [
    "### Glyph Dataset -- Simplified Polygons"
   ]
  },
  {
   "cell_type": "code",
   "execution_count": 10,
   "metadata": {},
   "outputs": [
    {
     "name": "stderr",
     "output_type": "stream",
     "text": [
      "100%|██████████| 12509/12509 [00:23<00:00, 537.01it/s]\n"
     ]
    },
    {
     "name": "stdout",
     "output_type": "stream",
     "text": [
      "********************************************************************************\n",
      "nuft_spec_mlp: 98.03\n",
      "cnn: 94.72\n",
      "deepset: 94.01\n",
      "gcn: 94.83\n",
      "transformer: 94.57\n",
      "dsc_nmp: 95.40\n",
      "polymp: 99.27\n",
      "dsc_polymp: 99.36\n"
     ]
    },
    {
     "name": "stderr",
     "output_type": "stream",
     "text": [
      "100%|██████████| 12385/12385 [00:26<00:00, 467.64it/s]\n"
     ]
    },
    {
     "name": "stdout",
     "output_type": "stream",
     "text": [
      "********************************************************************************\n",
      "nuft_spec_mlp: 34.91\n",
      "cnn: 39.23\n",
      "deepset: 22.94\n",
      "gcn: 31.76\n",
      "transformer: 23.30\n",
      "dsc_nmp: 35.21\n",
      "polymp: 40.52\n",
      "dsc_polymp: 42.26\n"
     ]
    },
    {
     "name": "stderr",
     "output_type": "stream",
     "text": [
      "100%|██████████| 12439/12439 [00:23<00:00, 530.39it/s]\n"
     ]
    },
    {
     "name": "stdout",
     "output_type": "stream",
     "text": [
      "********************************************************************************\n",
      "nuft_spec_mlp: 71.96\n",
      "cnn: 75.76\n",
      "deepset: 65.65\n",
      "gcn: 63.94\n",
      "transformer: 65.66\n",
      "dsc_nmp: 71.61\n",
      "polymp: 81.90\n",
      "dsc_polymp: 86.16\n"
     ]
    },
    {
     "name": "stderr",
     "output_type": "stream",
     "text": [
      "/data/anaconda3/envs/gdl/lib/python3.9/site-packages/shapely/constructive.py:881: RuntimeWarning: divide by zero encountered in simplify_preserve_topology\n",
      "  return lib.simplify_preserve_topology(geometry, tolerance, **kwargs)\n",
      "100%|██████████| 12380/12380 [00:23<00:00, 535.09it/s]\n"
     ]
    },
    {
     "name": "stdout",
     "output_type": "stream",
     "text": [
      "********************************************************************************\n",
      "nuft_spec_mlp: 40.07\n",
      "cnn: 55.58\n",
      "deepset: 24.81\n",
      "gcn: 38.34\n",
      "transformer: 25.19\n",
      "dsc_nmp: 41.56\n",
      "polymp: 53.50\n",
      "dsc_polymp: 56.68\n"
     ]
    },
    {
     "name": "stderr",
     "output_type": "stream",
     "text": [
      "/data/anaconda3/envs/gdl/lib/python3.9/site-packages/shapely/constructive.py:881: RuntimeWarning: divide by zero encountered in simplify_preserve_topology\n",
      "  return lib.simplify_preserve_topology(geometry, tolerance, **kwargs)\n",
      "100%|██████████| 49713/49713 [01:15<00:00, 658.50it/s]\n"
     ]
    },
    {
     "name": "stdout",
     "output_type": "stream",
     "text": [
      "********************************************************************************\n",
      "nuft_spec_mlp: 61.30\n",
      "cnn: 66.41\n",
      "deepset: 52.13\n",
      "gcn: 57.56\n",
      "transformer: 52.31\n",
      "dsc_nmp: 61.04\n",
      "polymp: 68.92\n",
      "dsc_polymp: 71.07\n"
     ]
    },
    {
     "name": "stderr",
     "output_type": "stream",
     "text": [
      "100%|██████████| 12509/12509 [00:25<00:00, 481.42it/s]\n"
     ]
    },
    {
     "name": "stdout",
     "output_type": "stream",
     "text": [
      "********************************************************************************\n",
      "nuft_spec_mlp: 97.76\n",
      "cnn: 90.55\n",
      "deepset: 93.81\n",
      "gcn: 92.26\n",
      "transformer: 92.31\n",
      "dsc_nmp: 92.20\n",
      "polymp: 98.37\n",
      "dsc_polymp: 98.93\n"
     ]
    },
    {
     "name": "stderr",
     "output_type": "stream",
     "text": [
      "100%|██████████| 12385/12385 [00:26<00:00, 465.08it/s]\n"
     ]
    },
    {
     "name": "stdout",
     "output_type": "stream",
     "text": [
      "********************************************************************************\n",
      "nuft_spec_mlp: 65.10\n",
      "cnn: 62.76\n",
      "deepset: 67.31\n",
      "gcn: 47.46\n",
      "transformer: 69.96\n",
      "dsc_nmp: 51.73\n",
      "polymp: 83.37\n",
      "dsc_polymp: 84.57\n"
     ]
    },
    {
     "name": "stderr",
     "output_type": "stream",
     "text": [
      "100%|██████████| 12439/12439 [00:24<00:00, 512.03it/s]\n"
     ]
    },
    {
     "name": "stdout",
     "output_type": "stream",
     "text": [
      "********************************************************************************\n",
      "nuft_spec_mlp: 83.97\n",
      "cnn: 77.51\n",
      "deepset: 77.88\n",
      "gcn: 70.79\n",
      "transformer: 79.88\n",
      "dsc_nmp: 77.60\n",
      "polymp: 91.41\n",
      "dsc_polymp: 93.56\n"
     ]
    },
    {
     "name": "stderr",
     "output_type": "stream",
     "text": [
      "/data/anaconda3/envs/gdl/lib/python3.9/site-packages/shapely/constructive.py:881: RuntimeWarning: divide by zero encountered in simplify_preserve_topology\n",
      "  return lib.simplify_preserve_topology(geometry, tolerance, **kwargs)\n",
      "100%|██████████| 12380/12380 [00:23<00:00, 531.26it/s]\n"
     ]
    },
    {
     "name": "stdout",
     "output_type": "stream",
     "text": [
      "********************************************************************************\n",
      "nuft_spec_mlp: 71.41\n",
      "cnn: 71.81\n",
      "deepset: 64.12\n",
      "gcn: 56.35\n",
      "transformer: 70.26\n",
      "dsc_nmp: 60.44\n",
      "polymp: 87.25\n",
      "dsc_polymp: 89.15\n"
     ]
    },
    {
     "name": "stderr",
     "output_type": "stream",
     "text": [
      "/data/anaconda3/envs/gdl/lib/python3.9/site-packages/shapely/constructive.py:881: RuntimeWarning: divide by zero encountered in simplify_preserve_topology\n",
      "  return lib.simplify_preserve_topology(geometry, tolerance, **kwargs)\n",
      "100%|██████████| 49713/49713 [01:27<00:00, 570.60it/s]\n"
     ]
    },
    {
     "name": "stdout",
     "output_type": "stream",
     "text": [
      "********************************************************************************\n",
      "nuft_spec_mlp: 79.65\n",
      "cnn: 75.70\n",
      "deepset: 76.03\n",
      "gcn: 66.95\n",
      "transformer: 78.14\n",
      "dsc_nmp: 70.55\n",
      "polymp: 89.74\n",
      "dsc_polymp: 91.19\n"
     ]
    },
    {
     "name": "stderr",
     "output_type": "stream",
     "text": [
      "100%|██████████| 12509/12509 [00:29<00:00, 429.08it/s]\n"
     ]
    },
    {
     "name": "stdout",
     "output_type": "stream",
     "text": [
      "********************************************************************************\n",
      "nuft_spec_mlp: 97.23\n",
      "cnn: 89.63\n",
      "deepset: 92.66\n",
      "gcn: 91.65\n",
      "transformer: 89.86\n",
      "dsc_nmp: 85.08\n",
      "polymp: 98.10\n",
      "dsc_polymp: 98.66\n"
     ]
    },
    {
     "name": "stderr",
     "output_type": "stream",
     "text": [
      "100%|██████████| 12385/12385 [00:26<00:00, 471.04it/s]\n"
     ]
    },
    {
     "name": "stdout",
     "output_type": "stream",
     "text": [
      "********************************************************************************\n",
      "nuft_spec_mlp: 78.85\n",
      "cnn: 67.78\n",
      "deepset: 74.61\n",
      "gcn: 59.13\n",
      "transformer: 70.38\n",
      "dsc_nmp: 52.92\n",
      "polymp: 86.47\n",
      "dsc_polymp: 89.04\n"
     ]
    },
    {
     "name": "stderr",
     "output_type": "stream",
     "text": [
      "100%|██████████| 12439/12439 [00:23<00:00, 521.71it/s]"
     ]
    },
    {
     "name": "stdout",
     "output_type": "stream",
     "text": [
      "********************************************************************************\n"
     ]
    },
    {
     "name": "stderr",
     "output_type": "stream",
     "text": [
      "\n"
     ]
    },
    {
     "name": "stdout",
     "output_type": "stream",
     "text": [
      "nuft_spec_mlp: 86.09\n",
      "cnn: 79.05\n",
      "deepset: 79.48\n",
      "gcn: 75.16\n",
      "transformer: 80.95\n",
      "dsc_nmp: 69.90\n",
      "polymp: 92.72\n",
      "dsc_polymp: 94.45\n"
     ]
    },
    {
     "name": "stderr",
     "output_type": "stream",
     "text": [
      "/data/anaconda3/envs/gdl/lib/python3.9/site-packages/shapely/constructive.py:881: RuntimeWarning: divide by zero encountered in simplify_preserve_topology\n",
      "  return lib.simplify_preserve_topology(geometry, tolerance, **kwargs)\n",
      "100%|██████████| 12380/12380 [00:24<00:00, 496.39it/s]\n"
     ]
    },
    {
     "name": "stdout",
     "output_type": "stream",
     "text": [
      "********************************************************************************\n",
      "nuft_spec_mlp: 78.95\n",
      "cnn: 74.83\n",
      "deepset: 71.36\n",
      "gcn: 64.66\n",
      "transformer: 71.74\n",
      "dsc_nmp: 56.73\n",
      "polymp: 88.73\n",
      "dsc_polymp: 91.84\n"
     ]
    },
    {
     "name": "stderr",
     "output_type": "stream",
     "text": [
      "/data/anaconda3/envs/gdl/lib/python3.9/site-packages/shapely/constructive.py:881: RuntimeWarning: divide by zero encountered in simplify_preserve_topology\n",
      "  return lib.simplify_preserve_topology(geometry, tolerance, **kwargs)\n",
      "100%|██████████| 49713/49713 [01:23<00:00, 595.34it/s]\n"
     ]
    },
    {
     "name": "stdout",
     "output_type": "stream",
     "text": [
      "********************************************************************************\n",
      "nuft_spec_mlp: 85.25\n",
      "cnn: 77.85\n",
      "deepset: 80.35\n",
      "gcn: 72.92\n",
      "transformer: 78.26\n",
      "dsc_nmp: 66.21\n",
      "polymp: 91.09\n",
      "dsc_polymp: 93.28\n"
     ]
    },
    {
     "name": "stderr",
     "output_type": "stream",
     "text": [
      "100%|██████████| 12509/12509 [00:29<00:00, 426.10it/s]\n"
     ]
    },
    {
     "name": "stdout",
     "output_type": "stream",
     "text": [
      "********************************************************************************\n",
      "nuft_spec_mlp: 96.62\n",
      "cnn: 89.29\n",
      "deepset: 91.58\n",
      "gcn: 90.06\n",
      "transformer: 89.70\n",
      "dsc_nmp: 90.02\n",
      "polymp: 97.74\n",
      "dsc_polymp: 98.38\n"
     ]
    },
    {
     "name": "stderr",
     "output_type": "stream",
     "text": [
      "100%|██████████| 12385/12385 [00:27<00:00, 454.95it/s]\n"
     ]
    },
    {
     "name": "stdout",
     "output_type": "stream",
     "text": [
      "********************************************************************************\n",
      "nuft_spec_mlp: 82.49\n",
      "cnn: 72.21\n",
      "deepset: 77.26\n",
      "gcn: 63.60\n",
      "transformer: 75.37\n",
      "dsc_nmp: 62.99\n",
      "polymp: 89.50\n",
      "dsc_polymp: 91.53\n"
     ]
    },
    {
     "name": "stderr",
     "output_type": "stream",
     "text": [
      "100%|██████████| 12439/12439 [00:25<00:00, 494.01it/s]\n"
     ]
    },
    {
     "name": "stdout",
     "output_type": "stream",
     "text": [
      "********************************************************************************\n",
      "nuft_spec_mlp: 88.48\n",
      "cnn: 80.33\n",
      "deepset: 80.75\n",
      "gcn: 76.48\n",
      "transformer: 80.76\n",
      "dsc_nmp: 79.47\n",
      "polymp: 92.99\n",
      "dsc_polymp: 94.89\n"
     ]
    },
    {
     "name": "stderr",
     "output_type": "stream",
     "text": [
      "/data/anaconda3/envs/gdl/lib/python3.9/site-packages/shapely/constructive.py:881: RuntimeWarning: divide by zero encountered in simplify_preserve_topology\n",
      "  return lib.simplify_preserve_topology(geometry, tolerance, **kwargs)\n",
      "100%|██████████| 12380/12380 [00:23<00:00, 520.88it/s]"
     ]
    },
    {
     "name": "stdout",
     "output_type": "stream",
     "text": [
      "********************************************************************************\n"
     ]
    },
    {
     "name": "stderr",
     "output_type": "stream",
     "text": [
      "\n"
     ]
    },
    {
     "name": "stdout",
     "output_type": "stream",
     "text": [
      "nuft_spec_mlp: 82.16\n",
      "cnn: 77.34\n",
      "deepset: 73.14\n",
      "gcn: 67.45\n",
      "transformer: 75.60\n",
      "dsc_nmp: 66.67\n",
      "polymp: 90.59\n",
      "dsc_polymp: 92.76\n"
     ]
    },
    {
     "name": "stderr",
     "output_type": "stream",
     "text": [
      "/data/anaconda3/envs/gdl/lib/python3.9/site-packages/shapely/constructive.py:881: RuntimeWarning: divide by zero encountered in simplify_preserve_topology\n",
      "  return lib.simplify_preserve_topology(geometry, tolerance, **kwargs)\n",
      "100%|██████████| 49713/49713 [01:16<00:00, 652.46it/s]"
     ]
    },
    {
     "name": "stdout",
     "output_type": "stream",
     "text": [
      "********************************************************************************\n"
     ]
    },
    {
     "name": "stderr",
     "output_type": "stream",
     "text": [
      "\n"
     ]
    },
    {
     "name": "stdout",
     "output_type": "stream",
     "text": [
      "nuft_spec_mlp: 87.46\n",
      "cnn: 79.82\n",
      "deepset: 81.14\n",
      "gcn: 74.47\n",
      "transformer: 80.38\n",
      "dsc_nmp: 74.83\n",
      "polymp: 92.48\n",
      "dsc_polymp: 94.13\n"
     ]
    },
    {
     "name": "stderr",
     "output_type": "stream",
     "text": [
      "100%|██████████| 12509/12509 [00:26<00:00, 480.89it/s]\n"
     ]
    },
    {
     "name": "stdout",
     "output_type": "stream",
     "text": [
      "********************************************************************************\n",
      "nuft_spec_mlp: 96.10\n",
      "cnn: 88.05\n",
      "deepset: 91.04\n",
      "gcn: 88.22\n",
      "transformer: 89.99\n",
      "dsc_nmp: 93.06\n",
      "polymp: 97.42\n",
      "dsc_polymp: 98.47\n"
     ]
    },
    {
     "name": "stderr",
     "output_type": "stream",
     "text": [
      "100%|██████████| 12385/12385 [00:26<00:00, 461.31it/s]\n"
     ]
    },
    {
     "name": "stdout",
     "output_type": "stream",
     "text": [
      "********************************************************************************\n",
      "nuft_spec_mlp: 84.56\n",
      "cnn: 73.71\n",
      "deepset: 78.81\n",
      "gcn: 66.88\n",
      "transformer: 79.16\n",
      "dsc_nmp: 73.10\n",
      "polymp: 90.55\n",
      "dsc_polymp: 92.78\n"
     ]
    },
    {
     "name": "stderr",
     "output_type": "stream",
     "text": [
      "100%|██████████| 12439/12439 [00:23<00:00, 531.61it/s]\n"
     ]
    },
    {
     "name": "stdout",
     "output_type": "stream",
     "text": [
      "********************************************************************************\n",
      "nuft_spec_mlp: 89.16\n",
      "cnn: 79.46\n",
      "deepset: 82.16\n",
      "gcn: 77.74\n",
      "transformer: 82.77\n",
      "dsc_nmp: 85.03\n",
      "polymp: 93.25\n",
      "dsc_polymp: 95.10\n"
     ]
    },
    {
     "name": "stderr",
     "output_type": "stream",
     "text": [
      "/data/anaconda3/envs/gdl/lib/python3.9/site-packages/shapely/constructive.py:881: RuntimeWarning: divide by zero encountered in simplify_preserve_topology\n",
      "  return lib.simplify_preserve_topology(geometry, tolerance, **kwargs)\n",
      "100%|██████████| 12380/12380 [00:23<00:00, 536.40it/s]\n"
     ]
    },
    {
     "name": "stdout",
     "output_type": "stream",
     "text": [
      "********************************************************************************\n",
      "nuft_spec_mlp: 83.28\n",
      "cnn: 76.73\n",
      "deepset: 76.11\n",
      "gcn: 70.56\n",
      "transformer: 77.84\n",
      "dsc_nmp: 76.99\n",
      "polymp: 91.36\n",
      "dsc_polymp: 93.43\n"
     ]
    },
    {
     "name": "stderr",
     "output_type": "stream",
     "text": [
      "/data/anaconda3/envs/gdl/lib/python3.9/site-packages/shapely/constructive.py:881: RuntimeWarning: divide by zero encountered in simplify_preserve_topology\n",
      "  return lib.simplify_preserve_topology(geometry, tolerance, **kwargs)\n",
      "100%|██████████| 49713/49713 [01:23<00:00, 595.34it/s]\n"
     ]
    },
    {
     "name": "stdout",
     "output_type": "stream",
     "text": [
      "********************************************************************************\n",
      "nuft_spec_mlp: 88.27\n",
      "cnn: 79.51\n",
      "deepset: 82.57\n",
      "gcn: 76.11\n",
      "transformer: 82.46\n",
      "dsc_nmp: 82.08\n",
      "polymp: 92.97\n",
      "dsc_polymp: 94.77\n"
     ]
    }
   ],
   "source": [
    "tolerant = 1.0\n",
    "\n",
    "for frac in [0.0, 0.2, 0.4, 0.6, 0.8]:\n",
    "    cfg['frac'] = frac\n",
    "\n",
    "    for tr in ['o', 'r', 'sc', 'sk', None]:\n",
    "        test_df = pd.read_pickle(cfg['test'])\n",
    "        if tr == None:\n",
    "            test_df = test_df[(test_df.name.isin(cls))].reset_index(drop=True)\n",
    "        else:                            \n",
    "            test_df = test_df[(test_df.name.isin(cls)) & (test_df.trans==tr)].reset_index(drop=True)\n",
    "        \n",
    "        for idx, row in test_df.iterrows():\n",
    "            geom = shapely.wkt.loads(row['geom'])\n",
    "            geom = geom.simplify(tolerant)\n",
    "            \n",
    "            test_df.iloc[idx]['geom'] = geom.wkt\n",
    "            test_df.iloc[idx]['pos'], \\\n",
    "            test_df.iloc[idx]['contour'] = to_edge_index(geom)\n",
    "        \n",
    "        test_set_sim = PolygonDataset(test_df, cfg['cls'])\n",
    "        test_loader = DataLoader(test_set_sim, \n",
    "                                 batch_size=cfg['batch'], \n",
    "                                 num_workers=cfg['worker'])\n",
    "        print('*' * 80)\n",
    "        \n",
    "        cfg['nn'] = 'nuft_spec_mlp'\n",
    "        cfg['path'] = f\"save/frac{cfg['frac']}/{cfg['nn']}\"\n",
    "        model = build_model(cfg=cfg)\n",
    "        trainer = Trainer(cfg=cfg) \n",
    "        nuft_spec_cm, nuft_spec_mlp = trainer.predict(model, dataloader=test_loader, ckpt='epoch100')\n",
    "        print(f'nuft_spec_mlp: {nuft_spec_cm.acc()}')\n",
    "        \n",
    "        cfg['nn'] = 'cnn'\n",
    "        cfg['path'] = f\"save/frac{cfg['frac']}/{cfg['nn']}\"\n",
    "        model = build_model(cfg=cfg)\n",
    "        trainer = Trainer(cfg=cfg) \n",
    "        cnn_cm, cnn = trainer.predict(model, dataloader=test_loader, ckpt='epoch100')\n",
    "        print(f'cnn: {cnn_cm.acc()}')\n",
    "        \n",
    "        cfg['nn'] = 'deepset'\n",
    "        cfg['path'] = f\"save/frac{cfg['frac']}/{cfg['nn']}\"\n",
    "        model = build_model(cfg=cfg)\n",
    "        trainer = Trainer(cfg=cfg) \n",
    "        deepset_cm, deepset = trainer.predict(model, dataloader=test_loader, ckpt='epoch100')\n",
    "        print(f'deepset: {deepset_cm.acc()}')\n",
    "\n",
    "        cfg['nn'] = 'gcn'\n",
    "        cfg['path'] = f\"save/frac{cfg['frac']}/{cfg['nn']}\"\n",
    "        model = build_model(cfg=cfg)\n",
    "        trainer = Trainer(cfg=cfg) \n",
    "        gcn_cm, gcn = trainer.predict(model, dataloader=test_loader, ckpt='epoch100')\n",
    "        print(f'gcn: {gcn_cm.acc()}')\n",
    "        \n",
    "        cfg['nn'] = 'transformer'\n",
    "        cfg['path'] = f\"save/frac{cfg['frac']}/{cfg['nn']}\"\n",
    "        model = build_model(cfg=cfg)\n",
    "        trainer = Trainer(cfg=cfg) \n",
    "        transformer_cm, transformer = trainer.predict(model, dataloader=test_loader, ckpt='epoch100')\n",
    "        print(f'transformer: {transformer_cm.acc()}')\n",
    "        \n",
    "        cfg['nn'] = 'dsc_nmp'\n",
    "        cfg['path'] = f\"save/frac{cfg['frac']}/{cfg['nn']}\"\n",
    "        model = build_model(cfg=cfg)\n",
    "        trainer = Trainer(cfg=cfg) \n",
    "        dsc_nmp_cm, dsc_nmp = trainer.predict(model, dataloader=test_loader, ckpt='epoch100')\n",
    "        print(f'dsc_nmp: {dsc_nmp_cm.acc()}')\n",
    "        \n",
    "        cfg['nn'] = 'polymp'\n",
    "        cfg['path'] = f\"save/frac{cfg['frac']}/{cfg['nn']}\"\n",
    "        model = build_model(cfg=cfg)\n",
    "        trainer = Trainer(cfg=cfg) \n",
    "        polymp_cm, polymp = trainer.predict(model, dataloader=test_loader, ckpt='epoch100')\n",
    "        print(f'polymp: {polymp_cm.acc()}')\n",
    "        \n",
    "        cfg['nn'] = 'dsc_polymp'\n",
    "        cfg['path'] = f\"save/frac{cfg['frac']}/{cfg['nn']}\"\n",
    "        model = build_model(cfg=cfg)\n",
    "        trainer = Trainer(cfg=cfg) \n",
    "        dsc_polymp_cm, dsc_polymp = trainer.predict(model, dataloader=test_loader, ckpt='epoch100')\n",
    "        print(f'dsc_polymp: {dsc_polymp_cm.acc()}')"
   ]
  },
  {
   "attachments": {},
   "cell_type": "markdown",
   "metadata": {},
   "source": [
    "### Data Samples"
   ]
  },
  {
   "cell_type": "code",
   "execution_count": null,
   "metadata": {},
   "outputs": [],
   "source": [
    "glyph_df = pd.read_pickle(cfg['glyph'])\n",
    "glyph_df = glyph_df[(glyph_df.name.isin(cls))].reset_index(drop=True)\n",
    "glyph_set = PolygonDataset(glyph_df, cfg['cls'])"
   ]
  },
  {
   "cell_type": "code",
   "execution_count": null,
   "metadata": {},
   "outputs": [],
   "source": [
    "import matplotlib.pyplot as plt\n",
    "plt.rcParams['font.size'] = 16\n",
    "plt.rcParams['font.family'] = 'sans-serif'\n",
    "plt.rcParams['savefig.bbox'] = 'tight'\n",
    "plt.rcParams['figure.constrained_layout.use'] = True\n",
    "plt.rcParams['savefig.dpi'] = 250\n",
    "plt.rcParams['figure.dpi'] = 250\n",
    "\n",
    "idx = 4\n",
    "\n",
    "fig, axes = plt.subplots(nrows=1, ncols=4,  figsize=(12, 3))\n",
    "axes[0].set_title('Original')\n",
    "draw_graph(glyph_set[idx].pos.numpy(), glyph_set[idx].edge_index.t().numpy(), ax=axes[0])\n",
    "\n",
    "axes[1].set_title('Rotation')\n",
    "draw_graph(glyph_set[idx+1].pos.numpy(), glyph_set[idx+1].edge_index.t().numpy(), ax=axes[1])\n",
    "\n",
    "axes[2].set_title('Shear')\n",
    "draw_graph(glyph_set[idx+2].pos.numpy(), glyph_set[idx+2].edge_index.t().numpy(), ax=axes[2])\n",
    "\n",
    "axes[3].set_title('Scaling')\n",
    "draw_graph(glyph_set[idx+3].pos.numpy(), glyph_set[idx+3].edge_index.t().numpy(), ax=axes[3])"
   ]
  },
  {
   "cell_type": "code",
   "execution_count": null,
   "metadata": {},
   "outputs": [],
   "source": [
    "tolerant = 1.0\n",
    "for idx, row in glyph_df.iterrows():\n",
    "    geom = shapely.wkt.loads(row['geom'])\n",
    "    geom = geom.simplify(tolerant)\n",
    "    \n",
    "    glyph_df.iloc[idx]['geom'] = geom.wkt\n",
    "    glyph_df.iloc[idx]['pos'], \\\n",
    "    glyph_df.iloc[idx]['contour'] = to_edge_index(geom)\n",
    "    \n",
    "glyph_set_sim = PolygonDataset(glyph_df, cfg['cls'])"
   ]
  },
  {
   "cell_type": "code",
   "execution_count": null,
   "metadata": {},
   "outputs": [],
   "source": [
    "idx = 4\n",
    "\n",
    "fig, axes = plt.subplots(nrows=1, ncols=4,  figsize=(12, 3))\n",
    "axes[0].set_title('Original B')\n",
    "draw_graph(glyph_set[idx].pos.numpy(), glyph_set[idx].edge_index.t().numpy(), ax=axes[0])\n",
    "\n",
    "axes[1].set_title('Simplified B')\n",
    "draw_graph(glyph_set_sim[idx].pos.numpy(), glyph_set_sim[idx].edge_index.t().numpy(), ax=axes[1])\n",
    "\n",
    "axes[2].set_title('Original D')\n",
    "draw_graph(glyph_set[idx+8].pos.numpy(), glyph_set[idx+8].edge_index.t().numpy(), ax=axes[2])\n",
    "\n",
    "axes[3].set_title('Simplified D')\n",
    "draw_graph(glyph_set_sim[idx+8].pos.numpy(), glyph_set_sim[idx+8].edge_index.t().numpy(), ax=axes[3])"
   ]
  }
 ],
 "metadata": {
  "kernelspec": {
   "display_name": "torch",
   "language": "python",
   "name": "python3"
  },
  "language_info": {
   "codemirror_mode": {
    "name": "ipython",
    "version": 3
   },
   "file_extension": ".py",
   "mimetype": "text/x-python",
   "name": "python",
   "nbconvert_exporter": "python",
   "pygments_lexer": "ipython3",
   "version": "3.9.18"
  },
  "orig_nbformat": 4
 },
 "nbformat": 4,
 "nbformat_minor": 2
}
